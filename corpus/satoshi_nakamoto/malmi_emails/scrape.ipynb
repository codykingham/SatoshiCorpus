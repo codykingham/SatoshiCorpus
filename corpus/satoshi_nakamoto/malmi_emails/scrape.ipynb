{
 "cells": [
  {
   "cell_type": "markdown",
   "id": "fc6aa676-bb84-44f2-a9bb-7d48914d904c",
   "metadata": {},
   "source": [
    "# Scrape the Malmi Emails"
   ]
  },
  {
   "cell_type": "code",
   "execution_count": 26,
   "id": "d45edec8-d1c1-45c8-897d-b9c971159a5a",
   "metadata": {},
   "outputs": [],
   "source": [
    "import re\n",
    "import requests\n",
    "import json\n",
    "\n",
    "from pathlib import Path\n",
    "from bs4 import BeautifulSoup"
   ]
  },
  {
   "cell_type": "markdown",
   "id": "50e9be22-db1c-4ac9-af2e-516e551b578b",
   "metadata": {},
   "source": [
    "## Step 1: Bare Extraction"
   ]
  },
  {
   "cell_type": "code",
   "execution_count": 9,
   "id": "2493e820-2f9b-4455-a35f-7b4e8d8e11ff",
   "metadata": {},
   "outputs": [],
   "source": [
    "MALMI_URL = \"https://mmalmi.github.io/satoshi/\"\n",
    "\n",
    "malmi_html = BeautifulSoup(\n",
    "    requests.get(MALMI_URL).text\n",
    ")"
   ]
  },
  {
   "cell_type": "code",
   "execution_count": 10,
   "id": "33cf67d9-b607-4a94-b922-1a76980a8116",
   "metadata": {},
   "outputs": [],
   "source": [
    "meta_fields = {\n",
    "    \"date\": re.compile(\"Date: (.+)\"),\n",
    "    \"subject\": re.compile(\"Subject: (.+)\"), \n",
    "    \"from\": re.compile(\"From: (.+)\"),\n",
    "    \"to\": re.compile(\"To: (.+)\"),\n",
    "}\n",
    "\n",
    "\n",
    "def try_match_metadata(div, re_pattern):\n",
    "    \"\"\"Try to match with regex pattern.\"\"\"\n",
    "    match = re_pattern.match(div.text)\n",
    "    if match:\n",
    "        return match.group(1)\n",
    "\n",
    "def extract_header_metadata(email_div):\n",
    "    \"\"\"Extract metadata from div header.\"\"\"\n",
    "    metadata = {}\n",
    "    for div in email_div.find_all('div', class_='header')[0].find_all('div'):\n",
    "        for field, matcher in meta_fields.items():\n",
    "            if (result := try_match_metadata(div, matcher)):\n",
    "                metadata[field] = result\n",
    "    return metadata\n",
    "\n",
    "\n",
    "def extract_email_data(parsed_html):\n",
    "    \"\"\"Extract Satoshi email data from raw HTML\"\"\"\n",
    "    satoshi_emails = {}\n",
    "    for email_div in parsed_html.find_all('div', class_='message satoshi'):\n",
    "        email_data = {}\n",
    "        email_data[\"metadata\"] = extract_header_metadata(email_div)\n",
    "        email_data[\"text\"] = email_div.find_all(\"div\", class_=\"body\")[0].text.strip()\n",
    "        email_index = email_div.find_all(\"div\", class_=\"email-index\")[0].text.strip()\n",
    "        satoshi_emails[email_index] = email_data\n",
    "    return satoshi_emails"
   ]
  },
  {
   "cell_type": "code",
   "execution_count": 11,
   "id": "16146113-8851-46ce-88e4-19534a7103f9",
   "metadata": {},
   "outputs": [
    {
     "data": {
      "text/plain": [
       "144"
      ]
     },
     "execution_count": 11,
     "metadata": {},
     "output_type": "execute_result"
    }
   ],
   "source": [
    "satoshi_emails = extract_email_data(malmi_html)\n",
    "\n",
    "len(satoshi_emails)"
   ]
  },
  {
   "cell_type": "code",
   "execution_count": 12,
   "id": "5c8a1b10-7ea7-4c0d-8fec-95dee4b76817",
   "metadata": {},
   "outputs": [
    {
     "data": {
      "text/plain": [
       "{'metadata': {'date': 'Sat, 02 May 2009 18:06:58 +0100',\n",
       "  'from': 'Satoshi Nakamoto <satoshin@gmx.com>',\n",
       "  'subject': 'Re: Bitcoin',\n",
       "  'to': 'Martti Malmi <sirius-m@users.sourceforge.net>'},\n",
       " 'text': 'Thanks for starting that topic on ASC, your understanding of bitcoin is \\nspot on.  Some of their responses were rather Neanderthal, although I \\nguess they\\'re so used to being anti-fiat-money that anything short of \\ngold isn\\'t good enough.  They concede that something is flammable, but \\nargue that it\\'ll never burn because there\\'ll never be a spark.  Once \\nit\\'s backed with cash, that might change, but I\\'d probably better \\nrefrain from mentioning that in public anymore until we\\'re closer to \\nready to start.  I think we\\'ll get flooded with newbies and we need to \\nget ready first.\\n\\nWhat we need most right now is website writing.  My writing is not that \\ngreat, I\\'m a much better coder.  Maybe you could create the website on \\nsourceforge, which is currently blank.  If you can write a FAQ, I can \\ngive you a compilation of my replies to questions in e-mail and forums \\nfor facts and details and ideas.\\n\\nCodewise, there\\'s not much that\\'s easy right now.  One thing that\\'s \\nneeded is an interface for server side scripting languages such as Java, \\nPython, PHP, ASP, etc.  Bitcoin would be running on the web server, and \\nserver side script could call it to do transactions.  It\\'s Windows, so I \\nguess OLE/COM is the interface.\\n\\nOne easy thing that really helps is to run a node that can accept \\nincoming connections (forward port 8333 on your firewall) to make sure \\nthat new users who try it out have someone to connect to.  If they run \\nit and get no connections, they\\'ll probably just give up.\\n\\nSatoshi\\n\\n\\nMartti Malmi wrote:\\n> Message body follows:\\n> \\n> Hello,\\n> \\n> I\\'m Trickstern from the anti-state.com forum, and I would \\n> like to help with Bitcoin, if there\\'s something I can do.\\n> \\n> I have a good touch on Java and C languages from school \\n> courses (I\\'m studying CS), but not so very much development \\n> experience yet. I think I could learn the C++ tricks quite \\n> easily on that basis. I could also do testing or \\n> documentation.\\n> \\n> Best regards,\\n> Martti Malmi\\n> \\n> --\\n> This message has been sent to you, a registered SourceForge.net user,\\n> by another site user, through the SourceForge.net site.  This message\\n> has been delivered to your SourceForge.net mail alias.  You may reply\\n> to this message using the \"Reply\" feature of your email client, or\\n> using the messaging facility of SourceForge.net at:\\n> https://sourceforge.net/sendmessage.php?touser=2495503\\n>'}"
      ]
     },
     "execution_count": 12,
     "metadata": {},
     "output_type": "execute_result"
    }
   ],
   "source": [
    "satoshi_emails[\"Email #1\"]"
   ]
  },
  {
   "cell_type": "markdown",
   "id": "392b8c10-4963-4ea8-8f4f-c90010436dec",
   "metadata": {},
   "source": [
    "## Step 2: Cleaning\n",
    "\n",
    "The email strings contain reply content from Malmi. We want to isolate the text parts that are unique to Satoshi. This must be done manually.\n",
    "\n",
    "We export a plain text sheet for doing this cleaning work."
   ]
  },
  {
   "cell_type": "code",
   "execution_count": 172,
   "id": "6ea8b2ff-19db-4678-92ca-8cd1119419fe",
   "metadata": {},
   "outputs": [],
   "source": [
    "review_lines = []\n",
    "\n",
    "for email, email_data in satoshi_emails.items():\n",
    "    email_text = email_data[\"text\"]\n",
    "    review_lines.append(f\"%%%%%\\nID={email}\\n\\n{email_text}\\n%%%%%\")\n",
    "\n",
    "    \n",
    "with open(\"manual_cleanup.txt\", \"w\") as outfile:\n",
    "    outfile.write(\"\\n\\n\".join(review_lines))"
   ]
  },
  {
   "cell_type": "code",
   "execution_count": 3,
   "id": "7858c5b2-77be-4906-bca5-69ffd4b580f1",
   "metadata": {},
   "outputs": [],
   "source": [
    "email_re = re.compile(r\"%%%%%\\nID=(.+?)\\n\\n(.+?)\\n%%%%%\", re.DOTALL)"
   ]
  },
  {
   "cell_type": "code",
   "execution_count": 5,
   "id": "52c42e9c-1534-406e-b9ea-46826972a609",
   "metadata": {},
   "outputs": [],
   "source": [
    "completed_cleanup_text = Path(\"manual_cleanup_DONE.txt\").read_text()\n",
    "\n",
    "cleaned_emails = email_re.findall(completed_cleanup_text)"
   ]
  },
  {
   "cell_type": "code",
   "execution_count": 6,
   "id": "3c1a4057-1ff2-40f1-943e-4a5314713756",
   "metadata": {},
   "outputs": [
    {
     "data": {
      "text/plain": [
       "144"
      ]
     },
     "execution_count": 6,
     "metadata": {},
     "output_type": "execute_result"
    }
   ],
   "source": [
    "len(cleaned_emails)"
   ]
  },
  {
   "cell_type": "code",
   "execution_count": 7,
   "id": "39883458-c41b-4cdd-bcdc-7836e0bde709",
   "metadata": {},
   "outputs": [
    {
     "data": {
      "text/plain": [
       "('Email #1',\n",
       " \"Thanks for starting that topic on ASC, your understanding of bitcoin is \\nspot on.  Some of their responses were rather Neanderthal, although I \\nguess they're so used to being anti-fiat-money that anything short of \\ngold isn't good enough.  They concede that something is flammable, but \\nargue that it'll never burn because there'll never be a spark.  Once \\nit's backed with cash, that might change, but I'd probably better \\nrefrain from mentioning that in public anymore until we're closer to \\nready to start.  I think we'll get flooded with newbies and we need to \\nget ready first.\\n\\nWhat we need most right now is website writing.  My writing is not that \\ngreat, I'm a much better coder.  Maybe you could create the website on \\nsourceforge, which is currently blank.  If you can write a FAQ, I can \\ngive you a compilation of my replies to questions in e-mail and forums \\nfor facts and details and ideas.\\n\\nCodewise, there's not much that's easy right now.  One thing that's \\nneeded is an interface for server side scripting languages such as Java, \\nPython, PHP, ASP, etc.  Bitcoin would be running on the web server, and \\nserver side script could call it to do transactions.  It's Windows, so I \\nguess OLE/COM is the interface.\\n\\nOne easy thing that really helps is to run a node that can accept \\nincoming connections (forward port 8333 on your firewall) to make sure \\nthat new users who try it out have someone to connect to.  If they run \\nit and get no connections, they'll probably just give up.\\n\\nSatoshi\")"
      ]
     },
     "execution_count": 7,
     "metadata": {},
     "output_type": "execute_result"
    }
   ],
   "source": [
    "cleaned_emails[0]"
   ]
  },
  {
   "cell_type": "code",
   "execution_count": 50,
   "id": "40487a38-c53d-4ee5-9695-9006350a6a77",
   "metadata": {},
   "outputs": [],
   "source": [
    "final_email_data = []\n",
    "for id_, cleaned_text in cleaned_emails:\n",
    "    metadata = {\"emailHeader\": satoshi_emails[id_][\"metadata\"].copy()}\n",
    "    metadata[\"source\"] = \"https://mmalmi.github.io/satoshi/\"\n",
    "    metadata[\"emailIndex\"] = id_\n",
    "    final_email_data.append(\n",
    "        {\n",
    "            \"author\": \"Satoshi Nakamoto\",\n",
    "            \"metadata\": metadata,\n",
    "            \"authorText\": cleaned_text.strip(),\n",
    "        }\n",
    "    )"
   ]
  },
  {
   "cell_type": "code",
   "execution_count": 51,
   "id": "f600dd68-075d-4962-a8c4-5a853106d6a5",
   "metadata": {},
   "outputs": [
    {
     "data": {
      "text/plain": [
       "{'author': 'Satoshi Nakamoto',\n",
       " 'metadata': {'emailHeader': {'date': 'Sun, 24 May 2009 23:03:38 +0100',\n",
       "   'from': 'Satoshi Nakamoto <satoshin@gmx.com>',\n",
       "   'subject': 'Re: Bitcoin',\n",
       "   'to': 'mmalmi@cc.hut.fi'},\n",
       "  'source': 'https://mmalmi.github.io/satoshi/',\n",
       "  'emailIndex': 'Email #15'},\n",
       " 'authorText': \"You're right, that was it.  I went in and granted us access using the \\nalternate account.\\n\\nI like your idea of at least moving the FAQ into the wiki.  I've seen \\nother projects that use the wiki for the FAQ or even the whole site.  If \\nyou can figure out how to make it so regular users can edit things, then \\nanyone who wants to can help.\"}"
      ]
     },
     "execution_count": 51,
     "metadata": {},
     "output_type": "execute_result"
    }
   ],
   "source": [
    "final_email_data[5]"
   ]
  },
  {
   "cell_type": "code",
   "execution_count": 52,
   "id": "1c652b71-d863-4840-80c6-65cc4de33117",
   "metadata": {},
   "outputs": [],
   "source": [
    "with open(\"malmi_emails.json\", \"w\") as outfile:\n",
    "    json.dump(final_email_data, outfile)"
   ]
  },
  {
   "cell_type": "code",
   "execution_count": null,
   "id": "6334eb91-fbcc-468f-96bb-7b0b7cec2edf",
   "metadata": {},
   "outputs": [],
   "source": []
  }
 ],
 "metadata": {
  "kernelspec": {
   "display_name": "datascience",
   "language": "python",
   "name": "datascience"
  },
  "language_info": {
   "codemirror_mode": {
    "name": "ipython",
    "version": 3
   },
   "file_extension": ".py",
   "mimetype": "text/x-python",
   "name": "python",
   "nbconvert_exporter": "python",
   "pygments_lexer": "ipython3",
   "version": "3.10.0"
  }
 },
 "nbformat": 4,
 "nbformat_minor": 5
}
