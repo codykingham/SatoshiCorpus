{
 "cells": [
  {
   "cell_type": "markdown",
   "id": "9ee86594-aa47-4a2d-b806-9e29e9221ee1",
   "metadata": {},
   "source": [
    "# Clean Forum Posts"
   ]
  },
  {
   "cell_type": "code",
   "execution_count": 92,
   "id": "6cfc2489-0957-4481-93e7-549c6656dce2",
   "metadata": {},
   "outputs": [],
   "source": [
    "import json\n",
    "import collections\n",
    "\n",
    "from bs4 import BeautifulSoup, NavigableString"
   ]
  },
  {
   "cell_type": "code",
   "execution_count": 48,
   "id": "2771741f-43e5-4552-8b07-a51d6c185b14",
   "metadata": {},
   "outputs": [],
   "source": [
    "SOURCE_FILE = \"source_data/posts.json\""
   ]
  },
  {
   "cell_type": "code",
   "execution_count": 113,
   "id": "4004a75e-6584-41f2-9c00-a331c9871b00",
   "metadata": {},
   "outputs": [],
   "source": [
    "with open(SOURCE_FILE, \"r\") as infile:\n",
    "    posts_data = json.load(infile)\n",
    "    posts_data = [\n",
    "        post for post in posts_data\n",
    "        if post['name'].lower() in {'satoshi nakamoto', 'satoshi'}\n",
    "    ]"
   ]
  },
  {
   "cell_type": "code",
   "execution_count": 122,
   "id": "89d0b900-3fde-4a37-8b99-407a6170f4be",
   "metadata": {},
   "outputs": [],
   "source": [
    "def clean_post_content(content):\n",
    "    \"\"\"Clean post content.\"\"\"\n",
    "    soup = BeautifulSoup(content)\n",
    "    post = soup.find_all(\"div\", class_=\"post\")[0]\n",
    "    strings = [\n",
    "        item for item in post.contents\n",
    "        if isinstance(item, NavigableString)\n",
    "    ]\n",
    "    text = ' '.join(strings)\n",
    "    return text.strip()"
   ]
  },
  {
   "cell_type": "code",
   "execution_count": 123,
   "id": "bfa80be5-64fc-4f28-8eee-7341ce38923d",
   "metadata": {},
   "outputs": [],
   "source": [
    "cleaned_posts_data = []\n",
    "\n",
    "for post in posts_data:\n",
    "    new_post_data = {}\n",
    "    new_post_data[\"author\"] = \"Satoshi Nakamoto\"\n",
    "    new_post_data[\"metadata\"] = {\n",
    "        k:v for k, v in post.items()\n",
    "        if k != 'content'\n",
    "    }\n",
    "    new_post_data['authorText'] = clean_post_content(post['content'])\n",
    "    cleaned_posts_data.append(new_post_data)"
   ]
  },
  {
   "cell_type": "code",
   "execution_count": 124,
   "id": "234171bf-18a8-48bf-b7fb-0909c12106c2",
   "metadata": {},
   "outputs": [
    {
     "data": {
      "text/plain": [
       "543"
      ]
     },
     "execution_count": 124,
     "metadata": {},
     "output_type": "execute_result"
    }
   ],
   "source": [
    "len(cleaned_posts_data)"
   ]
  },
  {
   "cell_type": "code",
   "execution_count": 133,
   "id": "1271cccf-0396-40da-b6ac-0e359967ffb7",
   "metadata": {},
   "outputs": [
    {
     "data": {
      "text/plain": [
       "{'author': 'Satoshi Nakamoto',\n",
       " 'metadata': {'thread_id': 3,\n",
       "  'name': 'satoshi',\n",
       "  'poster_url': 'https://bitcointalk.org/index.php?action=profile;u=3',\n",
       "  'subject': 'Re: Repost: Bitcoin Maturation',\n",
       "  'url': 'https://bitcointalk.org/index.php?topic=6.msg31#msg31',\n",
       "  'date': 'November 22, 2009, 06:34:21 PM',\n",
       "  'post_num': 2,\n",
       "  'is_displayed': True,\n",
       "  'nested_level': 0,\n",
       "  'satoshi_id': 8},\n",
       " 'authorText': 'It\\'s important to have network connectivity while you\\'re trying to generate a coin (block) and at the moment it is successfully generated. 1) During generation (when the status bar says \"Generating\" and you\\'re using CPU to find a proof-of-work), you must constantly keep in contact with the network to receive the latest block. If your block does not link to the latest block, it may not be accepted. 2) When you successfully generate a block, it is immediately broadcast to the network.\\xa0 Other nodes must receive it and link to it for it to be accepted as the new latest block. Think of it as a cooperative effort to make a chain.\\xa0 When you add a link, you must first find the current end of the chain.\\xa0 If you were to locate the last link, then go off for an hour and forge your link, come back and link it to the link that was the end an hour ago, others may have added several links since then and they\\'re not going to want to use your link that now branches off the middle. After a block is created, the maturation time of 120 blocks is to make absolutely sure the block is part of the main chain before it can be spent.\\xa0 Your node isn\\'t doing anything with the block during that time, just waiting for other blocks to be added after yours.\\xa0 You don\\'t have to be online during that time.'}"
      ]
     },
     "execution_count": 133,
     "metadata": {},
     "output_type": "execute_result"
    }
   ],
   "source": [
    "cleaned_posts_data[6]"
   ]
  },
  {
   "cell_type": "code",
   "execution_count": 132,
   "id": "728ad5c1-cca1-489f-adca-1c1e019aec9a",
   "metadata": {},
   "outputs": [
    {
     "data": {
      "text/plain": [
       "{'thread_id': 3,\n",
       " 'name': 'satoshi',\n",
       " 'poster_url': 'https://bitcointalk.org/index.php?action=profile;u=3',\n",
       " 'subject': 'Re: Repost: Bitcoin Maturation',\n",
       " 'url': 'https://bitcointalk.org/index.php?topic=6.msg31#msg31',\n",
       " 'date': 'November 22, 2009, 06:34:21 PM',\n",
       " 'content': '<div class=\"post\">It\\'s important to have network connectivity while you\\'re trying to generate a coin (block) and at the moment it is successfully generated.<br/><br/>1) During generation (when the status bar says \"Generating\" and you\\'re using CPU to find a proof-of-work), you must constantly keep in contact with the network to receive the latest block. If your block does not link to the latest block, it may not be accepted.<br/><br/>2) When you successfully generate a block, it is immediately broadcast to the network.&nbsp; Other nodes must receive it and link to it for it to be accepted as the new latest block.<br/><br/>Think of it as a cooperative effort to make a chain.&nbsp; When you add a link, you must first find the current end of the chain.&nbsp; If you were to locate the last link, then go off for an hour and forge your link, come back and link it to the link that was the end an hour ago, others may have added several links since then and they\\'re not going to want to use your link that now branches off the middle.<br/><br/>After a block is created, the maturation time of 120 blocks is to make absolutely sure the block is part of the main chain before it can be spent.&nbsp; Your node isn\\'t doing anything with the block during that time, just waiting for other blocks to be added after yours.&nbsp; You don\\'t have to be online during that time.</div>',\n",
       " 'post_num': 2,\n",
       " 'is_displayed': True,\n",
       " 'nested_level': 0,\n",
       " 'satoshi_id': 8}"
      ]
     },
     "execution_count": 132,
     "metadata": {},
     "output_type": "execute_result"
    }
   ],
   "source": [
    "posts_data[6]"
   ]
  },
  {
   "cell_type": "code",
   "execution_count": 54,
   "id": "433d687d-1d82-4bf1-932f-b01a19e65be8",
   "metadata": {},
   "outputs": [],
   "source": [
    "with open('forum_posts.json', 'w') as outfile:\n",
    "    json.dump(cleaned_posts_data, outfile)"
   ]
  },
  {
   "cell_type": "code",
   "execution_count": null,
   "id": "4626e56b-06b6-44b6-aed8-1644d4da24d0",
   "metadata": {},
   "outputs": [],
   "source": []
  }
 ],
 "metadata": {
  "kernelspec": {
   "display_name": "datascience",
   "language": "python",
   "name": "datascience"
  },
  "language_info": {
   "codemirror_mode": {
    "name": "ipython",
    "version": 3
   },
   "file_extension": ".py",
   "mimetype": "text/x-python",
   "name": "python",
   "nbconvert_exporter": "python",
   "pygments_lexer": "ipython3",
   "version": "3.10.0"
  }
 },
 "nbformat": 4,
 "nbformat_minor": 5
}
